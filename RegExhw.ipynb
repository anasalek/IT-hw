{
  "nbformat": 4,
  "nbformat_minor": 0,
  "metadata": {
    "colab": {
      "provenance": [],
      "authorship_tag": "ABX9TyO9uYSX71C8kNxgZanHBNid",
      "include_colab_link": true
    },
    "kernelspec": {
      "name": "python3",
      "display_name": "Python 3"
    },
    "language_info": {
      "name": "python"
    }
  },
  "cells": [
    {
      "cell_type": "markdown",
      "metadata": {
        "id": "view-in-github",
        "colab_type": "text"
      },
      "source": [
        "<a href=\"https://colab.research.google.com/github/anasalek/IT-hw/blob/main/RegExhw.ipynb\" target=\"_parent\"><img src=\"https://colab.research.google.com/assets/colab-badge.svg\" alt=\"Open In Colab\"/></a>"
      ]
    },
    {
      "cell_type": "code",
      "source": [
        "# 1. Find all words in a string that start with a capital letter.\n",
        "import re\n",
        "a = \"Hello world, this is a Regex example with Python.\"\n",
        "reCapitals = r'\\b[A-Z]\\w*\\b'\n",
        "b = re.findall(reCapitals, a)\n",
        "print(b)"
      ],
      "metadata": {
        "colab": {
          "base_uri": "https://localhost:8080/"
        },
        "id": "88pTBnrMeg2T",
        "outputId": "bb879d08-7668-4ff2-beae-9026f7d7742f"
      },
      "execution_count": null,
      "outputs": [
        {
          "output_type": "stream",
          "name": "stdout",
          "text": [
            "['Hello', 'Regex', 'Python']\n"
          ]
        }
      ]
    },
    {
      "cell_type": "code",
      "source": [
        "# 2. Replace all instances of \"is\" with \"was\" in the string.\n",
        "present = \"This is a test. This is only a test.\"\n",
        "time_pattern = r'\\bis\\b'\n",
        "repl = 'was'\n",
        "past = re.sub(time_pattern, repl, present)\n",
        "print(past)"
      ],
      "metadata": {
        "colab": {
          "base_uri": "https://localhost:8080/"
        },
        "id": "6JBMwn5misy3",
        "outputId": "fa6b9232-8bc6-44ce-9904-650aeef9dab7"
      },
      "execution_count": null,
      "outputs": [
        {
          "output_type": "stream",
          "name": "stdout",
          "text": [
            "This was a test. This was only a test.\n"
          ]
        }
      ]
    },
    {
      "cell_type": "code",
      "source": [
        "# 3. Extract All URLs from a Text\n",
        "url = \"\"\"\n",
        "Visit https://www.example.com or follow http://example.org.\n",
        "You can also check out https://another-example.com/path?arg=val for more details.\n",
        "\"\"\"\n",
        "url_pattern = r'https?://[^\\s/$.?#].[^\\s]*'\n",
        "all_usls = re.findall(url_pattern, url)\n",
        "print(all_usls)"
      ],
      "metadata": {
        "colab": {
          "base_uri": "https://localhost:8080/"
        },
        "id": "yu5w46nVm81w",
        "outputId": "6a82509c-989b-4c7e-d96f-a25ed632a68c"
      },
      "execution_count": null,
      "outputs": [
        {
          "output_type": "stream",
          "name": "stdout",
          "text": [
            "['https://www.example.com', 'http://example.org.', 'https://another-example.com/path?arg=val']\n"
          ]
        }
      ]
    },
    {
      "cell_type": "code",
      "source": [
        "# 4 Find all hashtags\n",
        "comment = \"Loving the #sunset and #nature! #beautiful_day\"\n",
        "hashtag_pattern = r'#\\w+'\n",
        "clean = re.findall(hashtag_pattern, comment)\n",
        "print(clean)"
      ],
      "metadata": {
        "colab": {
          "base_uri": "https://localhost:8080/"
        },
        "id": "thbs83nysywF",
        "outputId": "e4d85e41-876f-4740-b4e6-0da04bc759e9"
      },
      "execution_count": null,
      "outputs": [
        {
          "output_type": "stream",
          "name": "stdout",
          "text": [
            "['#sunset', '#nature', '#beautiful_day']\n"
          ]
        }
      ]
    },
    {
      "cell_type": "code",
      "source": [
        "# 5. Remove the repeated words\n",
        "teststring = \"This is is a test test string.\"\n",
        "doubles_pattern = r'\\b(\\w+)\\s+\\1\\b'\n",
        "delete_doubles = re.sub(doubles_pattern, r'\\1', teststring)\n",
        "print(delete_doubles)"
      ],
      "metadata": {
        "colab": {
          "base_uri": "https://localhost:8080/"
        },
        "id": "2knt_RA99iAr",
        "outputId": "b013eb90-7c53-434e-acde-af7ea58d1d6b"
      },
      "execution_count": null,
      "outputs": [
        {
          "output_type": "stream",
          "name": "stdout",
          "text": [
            "This is a test string.\n"
          ]
        }
      ]
    }
  ]
}