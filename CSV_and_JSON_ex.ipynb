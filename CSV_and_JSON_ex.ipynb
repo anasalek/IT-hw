{
  "nbformat": 4,
  "nbformat_minor": 0,
  "metadata": {
    "colab": {
      "provenance": [],
      "authorship_tag": "ABX9TyMKkFQixGgRn8dRqhrVCEXp",
      "include_colab_link": true
    },
    "kernelspec": {
      "name": "python3",
      "display_name": "Python 3"
    },
    "language_info": {
      "name": "python"
    }
  },
  "cells": [
    {
      "cell_type": "markdown",
      "metadata": {
        "id": "view-in-github",
        "colab_type": "text"
      },
      "source": [
        "<a href=\"https://colab.research.google.com/github/anasalek/IT-hw/blob/master/CSV_and_JSON_ex.ipynb\" target=\"_parent\"><img src=\"https://colab.research.google.com/assets/colab-badge.svg\" alt=\"Open In Colab\"/></a>"
      ]
    },
    {
      "cell_type": "markdown",
      "source": [
        "**CSV**"
      ],
      "metadata": {
        "id": "XHut85WM7siX"
      }
    },
    {
      "cell_type": "code",
      "execution_count": null,
      "metadata": {
        "colab": {
          "base_uri": "https://localhost:8080/"
        },
        "id": "0gkleIfgMFTv",
        "outputId": "fa26c888-2f71-4851-d5d9-5587573ea6a5"
      },
      "outputs": [
        {
          "output_type": "stream",
          "name": "stdout",
          "text": [
            "department_id,  department_name,   manager_id,   location_id\n",
            "10,  Administration,  200,  1700\n",
            "20,  Marketing,  201,  1800\n",
            "30,  Purchasing,  114,  1700\n",
            "40,  Human Resources,  203,  2400\n",
            "50,  Shipping,  121,  1500\n",
            "60,  IT,  103,  1400\n",
            "70,  Public Relations,  204,  2700\n",
            "80,  Sales,  145,  2500\n"
          ]
        }
      ],
      "source": [
        "# 1. Write a Python program to read each row from a given csv file and print a list of strings.\n",
        "import csv\n",
        "with open ('departments.csv', 'r') as f:\n",
        "  reader = csv.reader(f)\n",
        "  for row in reader:\n",
        "    print(', '.join(row))"
      ]
    },
    {
      "cell_type": "code",
      "source": [
        "# 2. Write a Python program to read a given CSV file having tab delimiter.\n",
        "import csv\n",
        "with open ('countries.csv', 'r') as f:\n",
        "  reader = csv.reader(f, delimiter='\\t')\n",
        "  for row in reader:\n",
        "    print(row)"
      ],
      "metadata": {
        "colab": {
          "base_uri": "https://localhost:8080/"
        },
        "id": "LWvIUemQao6k",
        "outputId": "7631b4d0-a2d1-420a-e514-02ca3e0eabcd",
        "collapsed": true
      },
      "execution_count": null,
      "outputs": [
        {
          "output_type": "stream",
          "name": "stdout",
          "text": [
            "['country_id country_name region_id']\n",
            "['AR Argentina 2']\n",
            "['AU Australia 3']\n",
            "['BE Belgium 1']\n",
            "['BR Brazil 2']\n",
            "['CA Canada 2']\n",
            "['CH Switzerland 1']\n",
            "['CN China 3']\n",
            "['DE Germany 1']\n",
            "['DK Denmark 1']\n",
            "['EG Egypt 4']\n",
            "['FR France 1']\n",
            "['HK HongKong 3']\n",
            "['IL Israel 4']\n",
            "['IN India 3']\n",
            "['IT Italy 1']\n",
            "['JP Japan 3']\n",
            "['KW Kuwait 4']\n",
            "['MX Mexico 2']\n",
            "['NG Nigeria 4']\n",
            "['N Netherlands 1']\n",
            "['SG Singapore 3']\n",
            "['UK United Kingdom 1']\n",
            "['US United States of America 2']\n",
            "['ZM Zambia 4']\n",
            "['ZW Zimbabwe 4']\n"
          ]
        }
      ]
    },
    {
      "cell_type": "code",
      "source": [
        "# 3. Write a Python program to read a given CSV file as a list.\n",
        "import csv\n",
        "with open ('employees.csv', 'r') as f:\n",
        "  reader = csv.reader(f)\n",
        "  for list in reader:\n",
        "    print(list)"
      ],
      "metadata": {
        "colab": {
          "base_uri": "https://localhost:8080/"
        },
        "id": "Fozo5Y3XbjRi",
        "outputId": "b756c308-7389-43f6-da7d-266fe004ffe1",
        "collapsed": true
      },
      "execution_count": null,
      "outputs": [
        {
          "output_type": "stream",
          "name": "stdout",
          "text": [
            "['employ_id', 'first_name', 'last_name', 'email', 'phone_number', 'hire_date', 'job_id', 'salary', 'commission_pct', 'manager_id', 'department_id']\n",
            "['100', 'Steven', 'King', 'SKING', '515.123.4567', '1987-06-17', 'AD_PRES', '24000', '', '', '90']\n",
            "['101', 'Neena', 'Kochhar', 'NKOCHHAR', '515.123.4568', '1987-06-18', 'AD_VP', '17000', '', '100', '90']\n",
            "['102', 'Lex', 'De Haan', 'LDEHAAN', '515.123.4569', '1987-06-19', 'AD_VP', '17000', '', '100', '90']\n",
            "['103', 'Alexander', 'Hunold', 'AHUNOLD', '590.423.4567', '1987-06-20', 'IT_PROG', '9000', '', '102', '60']\n",
            "['104', 'Bruce', 'Ernst', 'BERNST', '590.423.4568', '1987-06-21', 'IT_PROG', '6000', '', '103', '60']\n",
            "['105', 'David', 'Austin', 'DAUSTIN', '590.423.4569', '1987-06-22', 'IT_PROG', '4800', '', '103', '60']\n",
            "['106', 'Valli', 'Pataballa', 'VPATABAL', '590.423.4560', '1987-06-23', 'IT_PROG', '4800', '', '103', '60']\n",
            "['107', 'Diana', 'Lorentz', 'DLORENTZ', '590.423.5567', '1987-06-24', 'IT_PROG', '4200', '', '103', '60']\n",
            "['108', 'Nancy', 'Greenberg', 'NGREENBE', '515.124.4569', '1987-06-25', 'FI_MGR', '12000', '', '101', '100']\n",
            "['109', 'Daniel', 'Faviet', 'DFAVIET', '515.124.4169', '1987-06-26', 'FI_ACCOUNT', '9000', '', '108', '100']\n",
            "['110', 'John', 'Chen', 'JCHEN', '515.124.4269', '1987-06-27', 'FI_ACCOUNT', '8200', '', '108', '100']\n",
            "['111', 'Ismael', 'Sciarra', 'ISCIARRA', '515.124.4369', '1987-06-28', 'FI_ACCOUNT', '7700', '', '108', '100']\n",
            "['112', 'Jose Manuel', 'Urman', 'JMURMAN', '515.124.4469', '1987-06-29', 'FI_ACCOUNT', '7800', '', '108', '100']\n",
            "['113', 'Luis', 'Popp', 'LPOPP', '515.124.4567', '1987-06-30', 'FI_ACCOUNT', '6900', '', '108', '100']\n",
            "['114', 'Den', 'Raphaely', 'DRAPHEAL', '515.127.4561', '1987-07-01', 'PU_MAN', '11000', '', '100', '30']\n",
            "['115', 'Alexander', 'Khoo', 'AKHOO', '515.127.4562', '1987-07-02', 'PU_CLERK', '3100', '', '114', '30']\n",
            "['116', 'Shelli', 'Baida', 'SBAIDA', '515.127.4563', '1987-07-03', 'PU_CLERK', '2900', '', '114', '30']\n",
            "['117', 'Sigal', 'Tobias', 'STOBIAS', '515.127.4564', '1987-07-04', 'PU_CLERK', '2800', '', '114', '30']\n",
            "['118', 'Guy', 'Himuro', 'GHIMURO', '515.127.4565', '1987-07-05', 'PU_CLERK', '2600', '', '114', '30']\n",
            "['119', 'Karen', 'Colmenares', 'KCOLMENA', '515.127.4566', '1987-07-06', 'PU_CLERK', '2500', '', '114', '30']\n",
            "['120', 'Matthew', 'Weiss', 'MWEISS', '650.123.1234', '1987-07-07', 'ST_MAN', '8000', '', '100', '50']\n",
            "['121', 'Adam', 'Fripp', 'AFRIPP', '650.123.2234', '1987-07-08', 'ST_MAN', '8200', '', '100', '50']\n",
            "['122', 'Payam', 'Kaufling', 'PKAUFLIN', '650.123.3234', '1987-07-09', 'ST_MAN', '7900', '', '100', '50']\n",
            "['123', 'Shanta', 'Vollman', 'SVOLLMAN', '650.123.4234', '1987-07-10', 'ST_MAN', '6500', '', '100', '50']\n",
            "['124', 'Kevin', 'Mourgos', 'KMOURGOS', '650.123.5234', '1987-07-11', 'ST_MAN', '5800', '', '100', '50']\n",
            "['125', 'Julia', 'Nayer', 'JNAYER', '650.124.1214', '1987-07-12', 'ST_CLERK', '3200', '', '120', '50']\n",
            "['126', 'Irene', 'Mikkilineni', 'IMIKKILI', '650.124.1224', '1987-07-13', 'ST_CLERK', '2700', '', '120', '50']\n",
            "['127', 'James', 'Landry', 'JLANDRY', '650.124.1334', '1987-07-14', 'ST_CLERK', '2400', '', '120', '50']\n",
            "['128', 'Steven', 'Markle', 'SMARKLE', '650.124.1434', '1987-07-15', 'ST_CLERK', '2200', '', '120', '50']\n",
            "['129', 'Laura', 'Bissot', 'LBISSOT', '650.124.5234', '1987-07-16', 'ST_CLERK', '3300', '', '121', '50']\n",
            "['130', 'Mozhe', 'Atkinson', 'MATKINSO', '650.124.6234', '1987-07-17', 'ST_CLERK', '2800', '', '121', '50']\n",
            "['131', 'James', 'Marlow', 'JAMRLOW', '650.124.7234', '1987-07-18', 'ST_CLERK', '2500', '', '121', '50']\n",
            "['132', 'TJ', 'Olson', 'TJOLSON', '650.124.8234', '1987-07-19', 'ST_CLERK', '2100', '', '121', '50']\n",
            "['133', 'Jason', 'Mallin', 'JMALLIN', '650.127.1934', '1987-07-20', 'ST_CLERK', '3300', '', '122', '50']\n",
            "['134', 'Michael', 'Rogers', 'MROGERS', '650.127.1834', '1987-07-21', 'ST_CLERK', '2900', '', '122', '50']\n",
            "['135', 'Ki', 'Gee', 'KGEE', '650.127.1734', '1987-07-22', 'ST_CLERK', '2400', '', '122', '50']\n",
            "['136', 'Hazel', 'Philtanker', 'HPHILTAN', '650.127.1634', '1987-07-23', 'ST_CLERK', '2200', '', '122', '50']\n",
            "['137', 'Renske', 'Ladwig', 'RLADWIG', '650.121.1234', '1987-07-24', 'ST_CLERK', '3600', '', '123', '50']\n",
            "['138', 'Stephen', 'Stiles', 'SSTILES', '650.121.2034', '1987-07-25', 'ST_CLERK', '3200', '', '123', '50']\n",
            "['139', 'John', 'Seo', 'JSEO', '650.121.2019', '1987-07-26', 'ST_CLERK', '2700', '', '123', '50']\n",
            "['140', 'Joshua', 'Patel', 'JPATEL', '650.121.1834', '1987-07-27', 'ST_CLERK', '2500', '', '123', '50']\n",
            "['141', 'Trenna', 'Rajs', 'TRAJS', '650.121.8009', '1987-07-28', 'ST_CLERK', '3500', '', '124', '50']\n",
            "['142', 'Curtis', 'Davies', 'CDAVIES', '650.121.2994', '1987-07-29', 'ST_CLERK', '3100', '', '124', '50']\n",
            "['143', 'Randall', 'Matos', 'RMATOS', '650.121.2874', '1987-07-30', 'ST_CLERK', '2600', '', '124', '50']\n",
            "['144', 'Peter', 'Vargas', 'PVARGAS', '650.121.2004', '1987-07-31', 'ST_CLERK', '2500', '', '124', '50']\n",
            "['145', 'John', 'Russell', 'JRUSSEL', '011.44.1344.429268', '1987-08-01', 'SA_MAN', '14000', '0.4', '100', '80']\n",
            "['146', 'Karen', 'Partners', 'KPARTNER', '011.44.1344.467268', '1987-08-02', 'SA_MAN', '13500', '0.3', '100', '80']\n",
            "['147', 'Alberto', 'Errazuriz', 'AERRAZUR', '011.44.1344.429278', '1987-08-03', 'SA_MAN', '12000', '0.3', '100', '80']\n",
            "['148', 'Gerald', 'Cambrault', 'GCAMBRAU', '011.44.1344.619268', '1987-08-04', 'SA_MAN', '11000', '0.3', '100', '80']\n",
            "['149', 'Eleni', 'Zlotkey', 'EZLOTKEY', '011.44.1344.429018', '1987-08-05', 'SA_MAN', '10500', '0.2', '100', '80']\n",
            "['150', 'Peter', 'Tucker', 'PTUCKER', '011.44.1344.129268', '1987-08-06', 'SA_REP', '10000', '0.3', '145', '801', '2', '3', '4', '5', '6', '7', '8', '9']\n"
          ]
        }
      ]
    },
    {
      "cell_type": "code",
      "source": [
        "# 4. Write a Python program to read a given CSV file as a dictionary.\n",
        "import csv\n",
        "with open ('employees.csv', 'r') as f:\n",
        "  reader = csv.DictReader(f)\n",
        "  for dict in reader:\n",
        "    print(dict)"
      ],
      "metadata": {
        "colab": {
          "base_uri": "https://localhost:8080/"
        },
        "id": "wBkpAjqpcReu",
        "outputId": "8d61ba69-c56b-4db9-862c-61c6aa4ea329",
        "collapsed": true
      },
      "execution_count": null,
      "outputs": [
        {
          "output_type": "stream",
          "name": "stdout",
          "text": [
            "{'employ_id': '100', 'first_name': 'Steven', 'last_name': 'King', 'email': 'SKING', 'phone_number': '515.123.4567', 'hire_date': '1987-06-17', 'job_id': 'AD_PRES', 'salary': '24000', 'commission_pct': '', 'manager_id': '', 'department_id': '90'}\n",
            "{'employ_id': '101', 'first_name': 'Neena', 'last_name': 'Kochhar', 'email': 'NKOCHHAR', 'phone_number': '515.123.4568', 'hire_date': '1987-06-18', 'job_id': 'AD_VP', 'salary': '17000', 'commission_pct': '', 'manager_id': '100', 'department_id': '90'}\n",
            "{'employ_id': '102', 'first_name': 'Lex', 'last_name': 'De Haan', 'email': 'LDEHAAN', 'phone_number': '515.123.4569', 'hire_date': '1987-06-19', 'job_id': 'AD_VP', 'salary': '17000', 'commission_pct': '', 'manager_id': '100', 'department_id': '90'}\n",
            "{'employ_id': '103', 'first_name': 'Alexander', 'last_name': 'Hunold', 'email': 'AHUNOLD', 'phone_number': '590.423.4567', 'hire_date': '1987-06-20', 'job_id': 'IT_PROG', 'salary': '9000', 'commission_pct': '', 'manager_id': '102', 'department_id': '60'}\n",
            "{'employ_id': '104', 'first_name': 'Bruce', 'last_name': 'Ernst', 'email': 'BERNST', 'phone_number': '590.423.4568', 'hire_date': '1987-06-21', 'job_id': 'IT_PROG', 'salary': '6000', 'commission_pct': '', 'manager_id': '103', 'department_id': '60'}\n",
            "{'employ_id': '105', 'first_name': 'David', 'last_name': 'Austin', 'email': 'DAUSTIN', 'phone_number': '590.423.4569', 'hire_date': '1987-06-22', 'job_id': 'IT_PROG', 'salary': '4800', 'commission_pct': '', 'manager_id': '103', 'department_id': '60'}\n",
            "{'employ_id': '106', 'first_name': 'Valli', 'last_name': 'Pataballa', 'email': 'VPATABAL', 'phone_number': '590.423.4560', 'hire_date': '1987-06-23', 'job_id': 'IT_PROG', 'salary': '4800', 'commission_pct': '', 'manager_id': '103', 'department_id': '60'}\n",
            "{'employ_id': '107', 'first_name': 'Diana', 'last_name': 'Lorentz', 'email': 'DLORENTZ', 'phone_number': '590.423.5567', 'hire_date': '1987-06-24', 'job_id': 'IT_PROG', 'salary': '4200', 'commission_pct': '', 'manager_id': '103', 'department_id': '60'}\n",
            "{'employ_id': '108', 'first_name': 'Nancy', 'last_name': 'Greenberg', 'email': 'NGREENBE', 'phone_number': '515.124.4569', 'hire_date': '1987-06-25', 'job_id': 'FI_MGR', 'salary': '12000', 'commission_pct': '', 'manager_id': '101', 'department_id': '100'}\n",
            "{'employ_id': '109', 'first_name': 'Daniel', 'last_name': 'Faviet', 'email': 'DFAVIET', 'phone_number': '515.124.4169', 'hire_date': '1987-06-26', 'job_id': 'FI_ACCOUNT', 'salary': '9000', 'commission_pct': '', 'manager_id': '108', 'department_id': '100'}\n",
            "{'employ_id': '110', 'first_name': 'John', 'last_name': 'Chen', 'email': 'JCHEN', 'phone_number': '515.124.4269', 'hire_date': '1987-06-27', 'job_id': 'FI_ACCOUNT', 'salary': '8200', 'commission_pct': '', 'manager_id': '108', 'department_id': '100'}\n",
            "{'employ_id': '111', 'first_name': 'Ismael', 'last_name': 'Sciarra', 'email': 'ISCIARRA', 'phone_number': '515.124.4369', 'hire_date': '1987-06-28', 'job_id': 'FI_ACCOUNT', 'salary': '7700', 'commission_pct': '', 'manager_id': '108', 'department_id': '100'}\n",
            "{'employ_id': '112', 'first_name': 'Jose Manuel', 'last_name': 'Urman', 'email': 'JMURMAN', 'phone_number': '515.124.4469', 'hire_date': '1987-06-29', 'job_id': 'FI_ACCOUNT', 'salary': '7800', 'commission_pct': '', 'manager_id': '108', 'department_id': '100'}\n",
            "{'employ_id': '113', 'first_name': 'Luis', 'last_name': 'Popp', 'email': 'LPOPP', 'phone_number': '515.124.4567', 'hire_date': '1987-06-30', 'job_id': 'FI_ACCOUNT', 'salary': '6900', 'commission_pct': '', 'manager_id': '108', 'department_id': '100'}\n",
            "{'employ_id': '114', 'first_name': 'Den', 'last_name': 'Raphaely', 'email': 'DRAPHEAL', 'phone_number': '515.127.4561', 'hire_date': '1987-07-01', 'job_id': 'PU_MAN', 'salary': '11000', 'commission_pct': '', 'manager_id': '100', 'department_id': '30'}\n",
            "{'employ_id': '115', 'first_name': 'Alexander', 'last_name': 'Khoo', 'email': 'AKHOO', 'phone_number': '515.127.4562', 'hire_date': '1987-07-02', 'job_id': 'PU_CLERK', 'salary': '3100', 'commission_pct': '', 'manager_id': '114', 'department_id': '30'}\n",
            "{'employ_id': '116', 'first_name': 'Shelli', 'last_name': 'Baida', 'email': 'SBAIDA', 'phone_number': '515.127.4563', 'hire_date': '1987-07-03', 'job_id': 'PU_CLERK', 'salary': '2900', 'commission_pct': '', 'manager_id': '114', 'department_id': '30'}\n",
            "{'employ_id': '117', 'first_name': 'Sigal', 'last_name': 'Tobias', 'email': 'STOBIAS', 'phone_number': '515.127.4564', 'hire_date': '1987-07-04', 'job_id': 'PU_CLERK', 'salary': '2800', 'commission_pct': '', 'manager_id': '114', 'department_id': '30'}\n",
            "{'employ_id': '118', 'first_name': 'Guy', 'last_name': 'Himuro', 'email': 'GHIMURO', 'phone_number': '515.127.4565', 'hire_date': '1987-07-05', 'job_id': 'PU_CLERK', 'salary': '2600', 'commission_pct': '', 'manager_id': '114', 'department_id': '30'}\n",
            "{'employ_id': '119', 'first_name': 'Karen', 'last_name': 'Colmenares', 'email': 'KCOLMENA', 'phone_number': '515.127.4566', 'hire_date': '1987-07-06', 'job_id': 'PU_CLERK', 'salary': '2500', 'commission_pct': '', 'manager_id': '114', 'department_id': '30'}\n",
            "{'employ_id': '120', 'first_name': 'Matthew', 'last_name': 'Weiss', 'email': 'MWEISS', 'phone_number': '650.123.1234', 'hire_date': '1987-07-07', 'job_id': 'ST_MAN', 'salary': '8000', 'commission_pct': '', 'manager_id': '100', 'department_id': '50'}\n",
            "{'employ_id': '121', 'first_name': 'Adam', 'last_name': 'Fripp', 'email': 'AFRIPP', 'phone_number': '650.123.2234', 'hire_date': '1987-07-08', 'job_id': 'ST_MAN', 'salary': '8200', 'commission_pct': '', 'manager_id': '100', 'department_id': '50'}\n",
            "{'employ_id': '122', 'first_name': 'Payam', 'last_name': 'Kaufling', 'email': 'PKAUFLIN', 'phone_number': '650.123.3234', 'hire_date': '1987-07-09', 'job_id': 'ST_MAN', 'salary': '7900', 'commission_pct': '', 'manager_id': '100', 'department_id': '50'}\n",
            "{'employ_id': '123', 'first_name': 'Shanta', 'last_name': 'Vollman', 'email': 'SVOLLMAN', 'phone_number': '650.123.4234', 'hire_date': '1987-07-10', 'job_id': 'ST_MAN', 'salary': '6500', 'commission_pct': '', 'manager_id': '100', 'department_id': '50'}\n",
            "{'employ_id': '124', 'first_name': 'Kevin', 'last_name': 'Mourgos', 'email': 'KMOURGOS', 'phone_number': '650.123.5234', 'hire_date': '1987-07-11', 'job_id': 'ST_MAN', 'salary': '5800', 'commission_pct': '', 'manager_id': '100', 'department_id': '50'}\n",
            "{'employ_id': '125', 'first_name': 'Julia', 'last_name': 'Nayer', 'email': 'JNAYER', 'phone_number': '650.124.1214', 'hire_date': '1987-07-12', 'job_id': 'ST_CLERK', 'salary': '3200', 'commission_pct': '', 'manager_id': '120', 'department_id': '50'}\n",
            "{'employ_id': '126', 'first_name': 'Irene', 'last_name': 'Mikkilineni', 'email': 'IMIKKILI', 'phone_number': '650.124.1224', 'hire_date': '1987-07-13', 'job_id': 'ST_CLERK', 'salary': '2700', 'commission_pct': '', 'manager_id': '120', 'department_id': '50'}\n",
            "{'employ_id': '127', 'first_name': 'James', 'last_name': 'Landry', 'email': 'JLANDRY', 'phone_number': '650.124.1334', 'hire_date': '1987-07-14', 'job_id': 'ST_CLERK', 'salary': '2400', 'commission_pct': '', 'manager_id': '120', 'department_id': '50'}\n",
            "{'employ_id': '128', 'first_name': 'Steven', 'last_name': 'Markle', 'email': 'SMARKLE', 'phone_number': '650.124.1434', 'hire_date': '1987-07-15', 'job_id': 'ST_CLERK', 'salary': '2200', 'commission_pct': '', 'manager_id': '120', 'department_id': '50'}\n",
            "{'employ_id': '129', 'first_name': 'Laura', 'last_name': 'Bissot', 'email': 'LBISSOT', 'phone_number': '650.124.5234', 'hire_date': '1987-07-16', 'job_id': 'ST_CLERK', 'salary': '3300', 'commission_pct': '', 'manager_id': '121', 'department_id': '50'}\n",
            "{'employ_id': '130', 'first_name': 'Mozhe', 'last_name': 'Atkinson', 'email': 'MATKINSO', 'phone_number': '650.124.6234', 'hire_date': '1987-07-17', 'job_id': 'ST_CLERK', 'salary': '2800', 'commission_pct': '', 'manager_id': '121', 'department_id': '50'}\n",
            "{'employ_id': '131', 'first_name': 'James', 'last_name': 'Marlow', 'email': 'JAMRLOW', 'phone_number': '650.124.7234', 'hire_date': '1987-07-18', 'job_id': 'ST_CLERK', 'salary': '2500', 'commission_pct': '', 'manager_id': '121', 'department_id': '50'}\n",
            "{'employ_id': '132', 'first_name': 'TJ', 'last_name': 'Olson', 'email': 'TJOLSON', 'phone_number': '650.124.8234', 'hire_date': '1987-07-19', 'job_id': 'ST_CLERK', 'salary': '2100', 'commission_pct': '', 'manager_id': '121', 'department_id': '50'}\n",
            "{'employ_id': '133', 'first_name': 'Jason', 'last_name': 'Mallin', 'email': 'JMALLIN', 'phone_number': '650.127.1934', 'hire_date': '1987-07-20', 'job_id': 'ST_CLERK', 'salary': '3300', 'commission_pct': '', 'manager_id': '122', 'department_id': '50'}\n",
            "{'employ_id': '134', 'first_name': 'Michael', 'last_name': 'Rogers', 'email': 'MROGERS', 'phone_number': '650.127.1834', 'hire_date': '1987-07-21', 'job_id': 'ST_CLERK', 'salary': '2900', 'commission_pct': '', 'manager_id': '122', 'department_id': '50'}\n",
            "{'employ_id': '135', 'first_name': 'Ki', 'last_name': 'Gee', 'email': 'KGEE', 'phone_number': '650.127.1734', 'hire_date': '1987-07-22', 'job_id': 'ST_CLERK', 'salary': '2400', 'commission_pct': '', 'manager_id': '122', 'department_id': '50'}\n",
            "{'employ_id': '136', 'first_name': 'Hazel', 'last_name': 'Philtanker', 'email': 'HPHILTAN', 'phone_number': '650.127.1634', 'hire_date': '1987-07-23', 'job_id': 'ST_CLERK', 'salary': '2200', 'commission_pct': '', 'manager_id': '122', 'department_id': '50'}\n",
            "{'employ_id': '137', 'first_name': 'Renske', 'last_name': 'Ladwig', 'email': 'RLADWIG', 'phone_number': '650.121.1234', 'hire_date': '1987-07-24', 'job_id': 'ST_CLERK', 'salary': '3600', 'commission_pct': '', 'manager_id': '123', 'department_id': '50'}\n",
            "{'employ_id': '138', 'first_name': 'Stephen', 'last_name': 'Stiles', 'email': 'SSTILES', 'phone_number': '650.121.2034', 'hire_date': '1987-07-25', 'job_id': 'ST_CLERK', 'salary': '3200', 'commission_pct': '', 'manager_id': '123', 'department_id': '50'}\n",
            "{'employ_id': '139', 'first_name': 'John', 'last_name': 'Seo', 'email': 'JSEO', 'phone_number': '650.121.2019', 'hire_date': '1987-07-26', 'job_id': 'ST_CLERK', 'salary': '2700', 'commission_pct': '', 'manager_id': '123', 'department_id': '50'}\n",
            "{'employ_id': '140', 'first_name': 'Joshua', 'last_name': 'Patel', 'email': 'JPATEL', 'phone_number': '650.121.1834', 'hire_date': '1987-07-27', 'job_id': 'ST_CLERK', 'salary': '2500', 'commission_pct': '', 'manager_id': '123', 'department_id': '50'}\n",
            "{'employ_id': '141', 'first_name': 'Trenna', 'last_name': 'Rajs', 'email': 'TRAJS', 'phone_number': '650.121.8009', 'hire_date': '1987-07-28', 'job_id': 'ST_CLERK', 'salary': '3500', 'commission_pct': '', 'manager_id': '124', 'department_id': '50'}\n",
            "{'employ_id': '142', 'first_name': 'Curtis', 'last_name': 'Davies', 'email': 'CDAVIES', 'phone_number': '650.121.2994', 'hire_date': '1987-07-29', 'job_id': 'ST_CLERK', 'salary': '3100', 'commission_pct': '', 'manager_id': '124', 'department_id': '50'}\n",
            "{'employ_id': '143', 'first_name': 'Randall', 'last_name': 'Matos', 'email': 'RMATOS', 'phone_number': '650.121.2874', 'hire_date': '1987-07-30', 'job_id': 'ST_CLERK', 'salary': '2600', 'commission_pct': '', 'manager_id': '124', 'department_id': '50'}\n",
            "{'employ_id': '144', 'first_name': 'Peter', 'last_name': 'Vargas', 'email': 'PVARGAS', 'phone_number': '650.121.2004', 'hire_date': '1987-07-31', 'job_id': 'ST_CLERK', 'salary': '2500', 'commission_pct': '', 'manager_id': '124', 'department_id': '50'}\n",
            "{'employ_id': '145', 'first_name': 'John', 'last_name': 'Russell', 'email': 'JRUSSEL', 'phone_number': '011.44.1344.429268', 'hire_date': '1987-08-01', 'job_id': 'SA_MAN', 'salary': '14000', 'commission_pct': '0.4', 'manager_id': '100', 'department_id': '80'}\n",
            "{'employ_id': '146', 'first_name': 'Karen', 'last_name': 'Partners', 'email': 'KPARTNER', 'phone_number': '011.44.1344.467268', 'hire_date': '1987-08-02', 'job_id': 'SA_MAN', 'salary': '13500', 'commission_pct': '0.3', 'manager_id': '100', 'department_id': '80'}\n",
            "{'employ_id': '147', 'first_name': 'Alberto', 'last_name': 'Errazuriz', 'email': 'AERRAZUR', 'phone_number': '011.44.1344.429278', 'hire_date': '1987-08-03', 'job_id': 'SA_MAN', 'salary': '12000', 'commission_pct': '0.3', 'manager_id': '100', 'department_id': '80'}\n",
            "{'employ_id': '148', 'first_name': 'Gerald', 'last_name': 'Cambrault', 'email': 'GCAMBRAU', 'phone_number': '011.44.1344.619268', 'hire_date': '1987-08-04', 'job_id': 'SA_MAN', 'salary': '11000', 'commission_pct': '0.3', 'manager_id': '100', 'department_id': '80'}\n",
            "{'employ_id': '149', 'first_name': 'Eleni', 'last_name': 'Zlotkey', 'email': 'EZLOTKEY', 'phone_number': '011.44.1344.429018', 'hire_date': '1987-08-05', 'job_id': 'SA_MAN', 'salary': '10500', 'commission_pct': '0.2', 'manager_id': '100', 'department_id': '80'}\n",
            "{'employ_id': '150', 'first_name': 'Peter', 'last_name': 'Tucker', 'email': 'PTUCKER', 'phone_number': '011.44.1344.129268', 'hire_date': '1987-08-06', 'job_id': 'SA_REP', 'salary': '10000', 'commission_pct': '0.3', 'manager_id': '145', 'department_id': '80'}\n"
          ]
        }
      ]
    },
    {
      "cell_type": "code",
      "source": [
        "# 5. Write a Python program to read a given CSV files with initial spaces after a delimiter and remove those initial spaces.\n",
        "# В этих файлах нет initial spaces, так что я удалила все пробелы))\n",
        "import csv\n",
        "with open ('departments.csv', 'r') as f:\n",
        "  reader = csv.reader(f)\n",
        "  for row in reader:\n",
        "    s = (\", \".join(row))\n",
        "    a = s.replace(' ', '')\n",
        "    print(a)"
      ],
      "metadata": {
        "colab": {
          "base_uri": "https://localhost:8080/"
        },
        "id": "gtpSCF6cnDpc",
        "outputId": "89487013-abea-4b42-f227-4895b447d988",
        "collapsed": true
      },
      "execution_count": null,
      "outputs": [
        {
          "output_type": "stream",
          "name": "stdout",
          "text": [
            "department_id,department_name,manager_id,location_id\n",
            "10,Administration,200,1700\n",
            "20,Marketing,201,1800\n",
            "30,Purchasing,114,1700\n",
            "40,HumanResources,203,2400\n",
            "50,Shipping,121,1500\n",
            "60,IT,103,1400\n",
            "70,PublicRelations,204,2700\n",
            "80,Sales,145,2500\n"
          ]
        }
      ]
    },
    {
      "cell_type": "code",
      "source": [
        "# Видите? Если скипнуть пробелы, ничего не меняется\n",
        "import csv\n",
        "with open ('departments.csv', 'r') as f:\n",
        "  reader = csv.reader(f, skipinitialspace=True)\n",
        "  for row in reader:\n",
        "    print(', '.join(row))"
      ],
      "metadata": {
        "colab": {
          "base_uri": "https://localhost:8080/"
        },
        "id": "ykascbRCrL6Y",
        "outputId": "f6604a27-5c28-4fb4-aa21-c6ad1d0310b6"
      },
      "execution_count": null,
      "outputs": [
        {
          "output_type": "stream",
          "name": "stdout",
          "text": [
            "department_id, department_name, manager_id, location_id\n",
            "10, Administration, 200, 1700\n",
            "20, Marketing, 201, 1800\n",
            "30, Purchasing, 114, 1700\n",
            "40, Human Resources, 203, 2400\n",
            "50, Shipping, 121, 1500\n",
            "60, IT, 103, 1400\n",
            "70, Public Relations, 204, 2700\n",
            "80, Sales, 145, 2500\n"
          ]
        }
      ]
    },
    {
      "cell_type": "code",
      "source": [
        "# 6. Write a Python program that reads a CSV file and remove initial spaces, quotes around each entry and the delimiter.\n",
        "import csv\n",
        "with open ('countries.csv', 'r') as f:\n",
        "  reader = csv.reader(f)\n",
        "  for row in reader:\n",
        "    s = (\"\".join(row))\n",
        "    a = s.replace(\"'\", '').replace(' ', '')\n",
        "    print(a)"
      ],
      "metadata": {
        "colab": {
          "base_uri": "https://localhost:8080/"
        },
        "collapsed": true,
        "id": "CA1p5Md465aT",
        "outputId": "4217a4ff-965a-4f90-ad6c-8d23cb040b3f"
      },
      "execution_count": null,
      "outputs": [
        {
          "output_type": "stream",
          "name": "stdout",
          "text": [
            "country_idcountry_nameregion_id\n",
            "ARArgentina2\n",
            "AUAustralia3\n",
            "BEBelgium1\n",
            "BRBrazil2\n",
            "CACanada2\n",
            "CHSwitzerland1\n",
            "CNChina3\n",
            "DEGermany1\n",
            "DKDenmark1\n",
            "EGEgypt4\n",
            "FRFrance1\n",
            "HKHongKong3\n",
            "ILIsrael4\n",
            "INIndia3\n",
            "ITItaly1\n",
            "JPJapan3\n",
            "KWKuwait4\n",
            "MXMexico2\n",
            "NGNigeria4\n",
            "NNetherlands1\n",
            "SGSingapore3\n",
            "UKUnitedKingdom1\n",
            "USUnitedStatesofAmerica2\n",
            "ZMZambia4\n",
            "ZWZimbabwe4\n"
          ]
        }
      ]
    },
    {
      "cell_type": "code",
      "source": [
        "# 7. Write a Python program to read specific columns of a given CSV file and print the content of the columns.\n",
        "import csv\n",
        "import numpy as np\n",
        "\n",
        "data = np.genfromtxt('departments.csv', delimiter=', ')\n",
        "\n",
        "for col in data:\n",
        "    print(col[3])"
      ],
      "metadata": {
        "id": "XCUUmMxFsKK7",
        "colab": {
          "base_uri": "https://localhost:8080/"
        },
        "outputId": "47ab3a64-442d-4875-9d6d-211e5f2ca8ea"
      },
      "execution_count": null,
      "outputs": [
        {
          "output_type": "stream",
          "name": "stdout",
          "text": [
            "nan\n",
            "1700.0\n",
            "1800.0\n",
            "1700.0\n",
            "2400.0\n",
            "1500.0\n",
            "1400.0\n",
            "2700.0\n",
            "2500.0\n"
          ]
        }
      ]
    },
    {
      "cell_type": "code",
      "source": [
        "import csv\n",
        "with open('countries.csv', 'r') as f:\n",
        "  data = csv.reader(f, delimiter=' ')\n",
        "  for col in data:\n",
        "    print(col[1])"
      ],
      "metadata": {
        "colab": {
          "base_uri": "https://localhost:8080/"
        },
        "id": "gPhUN53Lnn3J",
        "outputId": "2d63bc72-ef66-4460-dfbb-44c83a65b2d0"
      },
      "execution_count": null,
      "outputs": [
        {
          "output_type": "stream",
          "name": "stdout",
          "text": [
            "'country_name'\n",
            "Argentina\n",
            "Australia\n",
            "Belgium\n",
            "Brazil\n",
            "Canada\n",
            "Switzerland\n",
            "China\n",
            "Germany\n",
            "Denmark\n",
            "Egypt\n",
            "France\n",
            "HongKong\n",
            "Israel\n",
            "India\n",
            "Italy\n",
            "Japan\n",
            "Kuwait\n",
            "Mexico\n",
            "Nigeria\n",
            "Netherlands\n",
            "Singapore\n",
            "United\n",
            "United\n",
            "Zambia\n",
            "Zimbabwe\n"
          ]
        }
      ]
    },
    {
      "cell_type": "code",
      "source": [
        "# 8. Write a Python program that reads each row of a given csv file and skip the header of the file. Also print the number of rows and the field names.\n",
        "import csv\n",
        "import pandas as pd\n",
        "with open ('departments.csv', 'r') as f:\n",
        "  a = pd.read_csv(f, header=None)\n",
        "  print(a)"
      ],
      "metadata": {
        "colab": {
          "base_uri": "https://localhost:8080/"
        },
        "id": "KtuiwHxXtpSz",
        "outputId": "cf5ac68b-15ab-4700-9ac4-64d5b06e129c"
      },
      "execution_count": null,
      "outputs": [
        {
          "output_type": "stream",
          "name": "stdout",
          "text": [
            "               0                  1             2              3\n",
            "0  department_id    department_name    manager_id    location_id\n",
            "1             10     Administration           200           1700\n",
            "2             20          Marketing           201           1800\n",
            "3             30         Purchasing           114           1700\n",
            "4             40    Human Resources           203           2400\n",
            "5             50           Shipping           121           1500\n",
            "6             60                 IT           103           1400\n",
            "7             70   Public Relations           204           2700\n",
            "8             80              Sales           145           2500\n"
          ]
        }
      ]
    },
    {
      "cell_type": "code",
      "source": [
        "# 9. Write a Python program to create an object for writing and iterate over the rows to print the values.\n",
        "import csv\n",
        "with open ('departments.csv', 'a') as f:\n",
        "  writer = csv.writer(f)\n",
        "with open ('departments.csv', 'r') as q:\n",
        "  reader = csv.reader(q)\n",
        "  for row in reader:\n",
        "    print(', '.join(row))"
      ],
      "metadata": {
        "id": "RXS73yFc1BwR",
        "colab": {
          "base_uri": "https://localhost:8080/"
        },
        "outputId": "d31c444e-81f1-41ca-c42a-36aef2cdf461"
      },
      "execution_count": null,
      "outputs": [
        {
          "output_type": "stream",
          "name": "stdout",
          "text": [
            "department_id,  department_name,   manager_id,   location_id\n",
            "10,  Administration,  200,  1700\n",
            "20,  Marketing,  201,  1800\n",
            "30,  Purchasing,  114,  1700\n",
            "40,  Human Resources,  203,  2400\n",
            "50,  Shipping,  121,  1500\n",
            "60,  IT,  103,  1400\n",
            "70,  Public Relations,  204,  2700\n",
            "80,  Sales,  145,  2500\n"
          ]
        }
      ]
    },
    {
      "cell_type": "code",
      "source": [
        "# 10. Write a Python program to write a Python list of lists to a csv file. After writing the CSV file read the CSV file and display the content.\n",
        "import csv\n",
        "list_of_lists = [[1,2,3], [4,5,6]]\n",
        "with open ('file.csv', 'w') as d:\n",
        "  writer = csv.writer(d)\n",
        "  writer.writerow(list_of_lists)\n",
        "with open ('file.csv', 'r') as q:\n",
        "  reader = csv.reader(q)\n",
        "  for row in q:\n",
        "    print(''.join(row))"
      ],
      "metadata": {
        "colab": {
          "base_uri": "https://localhost:8080/"
        },
        "collapsed": true,
        "id": "cPHgNdId3onZ",
        "outputId": "55405ccd-07dd-4085-9e96-fa127b45ce2c"
      },
      "execution_count": null,
      "outputs": [
        {
          "output_type": "stream",
          "name": "stdout",
          "text": [
            "\"[1, 2, 3]\",\"[4, 5, 6]\"\n",
            "\n"
          ]
        }
      ]
    },
    {
      "cell_type": "code",
      "source": [
        "# 11. Write a Python program to write a Python dictionary to a csv file. After writing the CSV file read the CSV file and display the content.\n",
        "import csv\n",
        "dictionary = dict({'food': ['apple, cake, soda']})\n",
        "with open ('file2.csv', 'w') as d:\n",
        "  writer = csv.DictWriter(d, fieldnames=fieldnames)\n",
        "  writer.writerow(dictionary)\n",
        "with open ('file2.csv', 'r') as q:\n",
        "  reader = csv.reader(q)\n",
        "  for row in q:\n",
        "    print(''.join(row))"
      ],
      "metadata": {
        "colab": {
          "base_uri": "https://localhost:8080/"
        },
        "id": "M7sRP7he9LCT",
        "outputId": "083c8d6f-db81-4860-d3c6-96bd2ccf2426"
      },
      "execution_count": null,
      "outputs": [
        {
          "output_type": "stream",
          "name": "stdout",
          "text": [
            "\"['apple, cake, soda']\"\n",
            "\n"
          ]
        }
      ]
    },
    {
      "cell_type": "markdown",
      "source": [
        "**JSON**"
      ],
      "metadata": {
        "id": "GgqFBwiu7nI_"
      }
    },
    {
      "cell_type": "code",
      "source": [
        "# 1. Write a Python program to convert JSON data to Python object.\n",
        "import json\n",
        "str_json = \"\"\"\n",
        "{\n",
        "    \"fruit\": \"Apple\",\n",
        "    \"size\": \"Large\",\n",
        "    \"color\": \"Red\",\n",
        "    \"animal\": \"Bunny\"\n",
        "}\n",
        "\"\"\"\n",
        "print(type(str_json))\n",
        "pydict = json.loads(str_json) # Конвертировала его в словарь\n",
        "print(pydict)\n",
        "print(type(pydict))"
      ],
      "metadata": {
        "colab": {
          "base_uri": "https://localhost:8080/"
        },
        "id": "w553kq1y48Nn",
        "outputId": "34a0e5e4-6e80-424e-8aa4-aaa758ade862"
      },
      "execution_count": null,
      "outputs": [
        {
          "output_type": "stream",
          "name": "stdout",
          "text": [
            "<class 'str'>\n",
            "{'fruit': 'Apple', 'size': 'Large', 'color': 'Red', 'animal': 'Bunny'}\n",
            "<class 'dict'>\n"
          ]
        }
      ]
    },
    {
      "cell_type": "code",
      "source": [
        "# 2. Write a Python program to convert Python object to JSON data.\n",
        "pystr = (json.dumps(pydict))\n",
        "print(pystr)\n",
        "pyN = (None)\n",
        "jsonN = (json.dumps(pyN))\n",
        "print(jsonN)"
      ],
      "metadata": {
        "colab": {
          "base_uri": "https://localhost:8080/"
        },
        "id": "fVrW_Igk7ywG",
        "outputId": "ca99a78f-026b-441f-a67f-6124ef1a61ec"
      },
      "execution_count": null,
      "outputs": [
        {
          "output_type": "stream",
          "name": "stdout",
          "text": [
            "{\"fruit\": \"Apple\", \"size\": \"Large\", \"color\": \"Red\", \"animal\": \"Bunny\"}\n",
            "null\n"
          ]
        }
      ]
    },
    {
      "cell_type": "code",
      "source": [
        "# 3. Write a Python program to convert Python objects into JSON strings. Print all the values.\n",
        "pylist = ['cake', 'pie', 'berry']\n",
        "jsonstr = json.dumps(pylist)\n",
        "print(jsonstr)\n",
        "print(type(jsonstr))"
      ],
      "metadata": {
        "colab": {
          "base_uri": "https://localhost:8080/"
        },
        "id": "eKht1H09VC7y",
        "outputId": "5707b3ba-9e30-4b27-87b1-d46ae6793063"
      },
      "execution_count": null,
      "outputs": [
        {
          "output_type": "stream",
          "name": "stdout",
          "text": [
            "[\"cake\", \"pie\", \"berry\"]\n",
            "<class 'str'>\n"
          ]
        }
      ]
    },
    {
      "cell_type": "code",
      "source": [
        "# 4. Write a Python program to convert Python dictionary object (sort by key) to JSON data. Print the object members with indent level 4.\n",
        "json_object = json.dumps(pydict, sort_keys=True, indent=4)\n",
        "print(type(json_object))"
      ],
      "metadata": {
        "colab": {
          "base_uri": "https://localhost:8080/"
        },
        "id": "MolA53oYKoWG",
        "outputId": "cf5d93e6-810c-4121-c383-d8b0ad96acf7"
      },
      "execution_count": null,
      "outputs": [
        {
          "output_type": "stream",
          "name": "stdout",
          "text": [
            "<class 'str'>\n"
          ]
        }
      ]
    },
    {
      "cell_type": "code",
      "source": [
        "# 5. Write a Python program to convert JSON encoded data into Python objects.\n",
        "python_object = json.loads(json_object)\n",
        "print(python_object)"
      ],
      "metadata": {
        "colab": {
          "base_uri": "https://localhost:8080/"
        },
        "id": "l_85brjFPmde",
        "outputId": "31cd3427-99ba-42a1-d009-2304a486e1b6"
      },
      "execution_count": null,
      "outputs": [
        {
          "output_type": "stream",
          "name": "stdout",
          "text": [
            "{'animal': 'Bunny', 'color': 'Red', 'fruit': 'Apple', 'size': 'Large'}\n"
          ]
        }
      ]
    },
    {
      "cell_type": "code",
      "source": [
        "# 6. Write a Python program to create a new JSON file from an existing JSON file.\n",
        "import json\n",
        "with open('sample2.json', 'r') as f:\n",
        "  data = json.load(f)\n",
        "  with open('new.json', 'w') as a:\n",
        "    json.dump(data, a)\n",
        "with open('new.json', 'r') as nf:\n",
        "  newfile = json.load(nf)\n",
        "  print(newfile)"
      ],
      "metadata": {
        "colab": {
          "base_uri": "https://localhost:8080/"
        },
        "id": "oDh1WSABQLk-",
        "outputId": "8c62de26-084d-426f-9a15-ddd626a4d9fb"
      },
      "execution_count": null,
      "outputs": [
        {
          "output_type": "stream",
          "name": "stdout",
          "text": [
            "{'bow': False, 'darkness': -237410322, 'proper': 'raw', 'worse': -362431767, 'see': {'these': [837885626, 1384841275, -1010534414, True, -853054658.3094907, 'spoken'], 'star': 'ocean', 'chief': 'agree', 'sugar': False, 'straight': 'matter', 'cake': True}, 'tree': 1877080137}\n"
          ]
        }
      ]
    },
    {
      "cell_type": "code",
      "source": [
        "# 7. Write a Python program to check whether an instance is complex or not. # Это же про комплексные числа да? Потому что я сделала будто да.\n",
        "def is_complex():\n",
        "  mixed_list = [\n",
        "      12,\n",
        "      \"hello\",\n",
        "      1 + 2j,\n",
        "      6j,\n",
        "      False,\n",
        "      0.9,\n",
        "      4 - 5j\n",
        "  ]\n",
        "  for element in mixed_list:\n",
        "    if isinstance(element, complex):\n",
        "      print(f'{element} is a complex number')\n",
        "    else:\n",
        "      print(f'{element} is not a complex number')\n",
        "\n",
        "is_complex()\n",
        "def complexobj(x): # Пришло понимание, что комплекс объект это может быть словарь или список. Ну типа несколько элементов в нем.\n",
        "  if isinstance(x, (dict, list, set)):\n",
        "    print(\"Complex!\")\n",
        "  else:\n",
        "    print(\"Too simple, try bet-ah\")\n",
        "complexobj(\"stroka\")\n",
        "complexobj([1, 2, 3, 4])\n",
        "complexobj({1,2,3,4,5,6})\n",
        "complexobj({\"animals\": \"bunny\", \"fruits\": \"apples\"})"
      ],
      "metadata": {
        "id": "bZMv7PFLZ2ie",
        "colab": {
          "base_uri": "https://localhost:8080/"
        },
        "outputId": "1c384824-6593-48f7-962a-c005f4164bff"
      },
      "execution_count": null,
      "outputs": [
        {
          "output_type": "stream",
          "name": "stdout",
          "text": [
            "12 is not a complex number\n",
            "hello is not a complex number\n",
            "(1+2j) is a complex number\n",
            "6j is a complex number\n",
            "False is not a complex number\n",
            "0.9 is not a complex number\n",
            "(4-5j) is a complex number\n",
            "Too simple, try bet-ah\n",
            "Complex!\n",
            "Complex!\n",
            "Complex!\n"
          ]
        }
      ]
    },
    {
      "cell_type": "code",
      "source": [
        "8. # Write a Python program to check whether a JSON string contains complex object or not.\n",
        "import json\n",
        "\n",
        "string4 = \"\"\"\n",
        "{\n",
        "    \"bow\": \"False\",\n",
        "    \"darkness\": -2834784849494,\n",
        "    \"proper\": \"raw\"\n",
        "    }\n",
        "    \"\"\"\n",
        "b = json.dumps(string4)\n",
        "print(type(string4))\n",
        "a = json.loads(string4)\n",
        "print(a)\n",
        "print(type(a))\n",
        "# Так все я устала. json всегда выглядит как питоновский словарь, который и есть complex object, нет?"
      ],
      "metadata": {
        "id": "YVTzaDyTcGKw",
        "colab": {
          "base_uri": "https://localhost:8080/"
        },
        "outputId": "e8948c5e-0158-4d21-ca4e-496f7c02d2b6"
      },
      "execution_count": null,
      "outputs": [
        {
          "output_type": "stream",
          "name": "stdout",
          "text": [
            "<class 'str'>\n",
            "{'bow': 'False', 'darkness': -2834784849494, 'proper': 'raw'}\n",
            "<class 'dict'>\n"
          ]
        }
      ]
    },
    {
      "cell_type": "code",
      "source": [
        "#9. Write a Python program to access only unique key value of a Python object.\n",
        "music = {\n",
        "    \"ariana_grande\": \"eternal_sunshine\",\n",
        "    \"ariana_grande\": \"positions\",\n",
        "    \"ladygaga\": \"monster\",\n",
        "    \"ladygaga\": \"alejandro\"}\n",
        "\n",
        "print(music)\n",
        "json_music = json.dumps(music)\n",
        "print((json_music))"
      ],
      "metadata": {
        "colab": {
          "base_uri": "https://localhost:8080/"
        },
        "id": "nahHC_W-tXrt",
        "outputId": "1c48499b-9ae7-41c8-81a0-cc642e36851e"
      },
      "execution_count": null,
      "outputs": [
        {
          "output_type": "stream",
          "name": "stdout",
          "text": [
            "{'ariana_grande': 'positions', 'ladygaga': 'alejandro'}\n",
            "{\"ariana_grande\": \"positions\", \"ladygaga\": \"alejandro\"}\n"
          ]
        }
      ]
    }
  ]
}